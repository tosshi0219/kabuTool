{
 "cells": [
  {
   "cell_type": "code",
   "execution_count": 7,
   "metadata": {},
   "outputs": [],
   "source": [
    "import pandas as pd"
   ]
  },
  {
   "cell_type": "code",
   "execution_count": 6,
   "metadata": {},
   "outputs": [],
   "source": [
    "import sys\n",
    "sys.path.append('../../')\n",
    "sys.path.append('../../kabuTool/')\n",
    "\n",
    "from kabuconfig import kabudb_path\n",
    "from sqlite_pandas.models import sqlite_pandas as sp\n",
    "\n",
    "kabudb = sp(kabudb_path)"
   ]
  },
  {
   "cell_type": "code",
   "execution_count": 8,
   "metadata": {},
   "outputs": [],
   "source": [
    "df = pd.read_excel('../database/initialdata/code_list/data_j_20200229.xls')"
   ]
  },
  {
   "cell_type": "code",
   "execution_count": 16,
   "metadata": {},
   "outputs": [],
   "source": [
    "cols = {\n",
    "    'date':None,\n",
    "    'code':'unique',\n",
    "    'name':None,\n",
    "    'market':None,\n",
    "    'code33':None,\n",
    "    'kubun33':None,\n",
    "    'code17':None,\n",
    "    'kubun17':None,\n",
    "    'scalecode':None,\n",
    "    'scalekubun':None\n",
    "}"
   ]
  },
  {
   "cell_type": "code",
   "execution_count": 17,
   "metadata": {},
   "outputs": [],
   "source": [
    "kabudb.drop_table('all_code')\n",
    "kabudb.create_table('all_code',cols)\n",
    "kabudb.insert_data('all_code',df)"
   ]
  },
  {
   "cell_type": "code",
   "execution_count": null,
   "metadata": {},
   "outputs": [],
   "source": []
  }
 ],
 "metadata": {
  "kernelspec": {
   "display_name": "Python 3",
   "language": "python",
   "name": "python3"
  },
  "language_info": {
   "codemirror_mode": {
    "name": "ipython",
    "version": 3
   },
   "file_extension": ".py",
   "mimetype": "text/x-python",
   "name": "python",
   "nbconvert_exporter": "python",
   "pygments_lexer": "ipython3",
   "version": "3.6.8"
  }
 },
 "nbformat": 4,
 "nbformat_minor": 4
}
